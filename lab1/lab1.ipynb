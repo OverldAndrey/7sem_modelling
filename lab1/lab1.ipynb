{
 "cells": [
  {
   "cell_type": "code",
   "execution_count": 123,
   "metadata": {},
   "outputs": [],
   "source": [
    "import random\n",
    "from itertools import islice\n",
    "from scipy.stats import chisquare"
   ]
  },
  {
   "cell_type": "code",
   "execution_count": 124,
   "metadata": {},
   "outputs": [],
   "source": [
    "def calc_prog_random(l):\n",
    "    random.seed()\n",
    "    \n",
    "    one_digit = [random.randint(0, 9) for i in range(l)]\n",
    "    two_digit = [random.randint(10, 99) for i in range(l)]\n",
    "    three_digit = [random.randint(100, 999) for i in range(l)]\n",
    "    \n",
    "    return one_digit, two_digit, three_digit"
   ]
  },
  {
   "cell_type": "code",
   "execution_count": 125,
   "metadata": {},
   "outputs": [],
   "source": [
    "num_qty = 10000"
   ]
  },
  {
   "cell_type": "code",
   "execution_count": 126,
   "metadata": {},
   "outputs": [],
   "source": [
    "def calc_table_random(l):\n",
    "    \n",
    "    numbers = set()\n",
    "    with open('digits.txt') as file: \n",
    "        lines = islice(file, 0, None)\n",
    "        for ln in lines:\n",
    "            numbers.update(set(ln.split(\" \")[1:-1]))\n",
    "        numbers.remove(\"\") \n",
    "        numbers = list(numbers)\n",
    "\n",
    "    one_digit = []\n",
    "    two_digits = []\n",
    "    three_digits = []\n",
    "\n",
    "    random.seed()\n",
    "    ind = random.randint(0, 9)\n",
    "    \n",
    "    for i in range(l):\n",
    "        if ind < len(numbers):\n",
    "            one_digit.append(int(numbers[ind]) % 10 + 0)\n",
    "        else:\n",
    "            ind = ind - len(numbers)\n",
    "            one_digit.append(int(numbers[ind]) % 10 + 0)\n",
    "        ind += 1\n",
    "        \n",
    "    ind = random.randint(0, 9)\n",
    "    \n",
    "    for i in range(l):\n",
    "        if ind < len(numbers):\n",
    "            two_digits.append(int(numbers[ind]) % 90 + 10)\n",
    "        else:\n",
    "            ind = ind - len(numbers)\n",
    "            two_digits.append(int(numbers[ind]) % 90 + 10)\n",
    "        ind += 1\n",
    "        \n",
    "    ind = random.randint(0, 9)\n",
    "        \n",
    "    for i in range(l):\n",
    "        if ind < len(numbers):\n",
    "            three_digits.append(int(numbers[ind]) % 900 + 100)\n",
    "        else:\n",
    "            ind = ind - len(numbers)\n",
    "            three_digits.append(int(numbers[ind]) % 900 + 100)\n",
    "        ind += 1\n",
    "    \n",
    "    return one_digit, two_digits, three_digits"
   ]
  },
  {
   "cell_type": "code",
   "execution_count": 127,
   "metadata": {},
   "outputs": [],
   "source": [
    "def chi2_criteria(num_set, k, off):\n",
    "    freq = [0 for i in range(0, k)]\n",
    "    for i in range(len(num_set)):\n",
    "        freq[num_set[i] - off] += 1\n",
    "    \n",
    "    return chisquare(freq)"
   ]
  },
  {
   "cell_type": "code",
   "execution_count": 128,
   "metadata": {},
   "outputs": [],
   "source": [
    "def freq_test(a, b, num_set):\n",
    "    nums = [(i - a) / (b - a) for i in num_set]\n",
    "    res_n = 0\n",
    "    for i in range(len(nums)):\n",
    "        res_n += 1 if 0.2113 <= nums[i] <= 0.7887 else 0\n",
    "    return res_n / len(num_set)"
   ]
  },
  {
   "cell_type": "code",
   "execution_count": 141,
   "metadata": {},
   "outputs": [],
   "source": [
    "p_one, p_two, p_three = calc_prog_random(num_qty)\n",
    "t_one, t_two, t_three = calc_table_random(num_qty)\n",
    "prog_res = [p_one, p_two, p_three]\n",
    "table_res = [t_one, t_two, t_three]"
   ]
  },
  {
   "cell_type": "code",
   "execution_count": 142,
   "metadata": {},
   "outputs": [],
   "source": [
    "_, chi_one_p = chi2_criteria(p_one, 10, 0)\n",
    "_, chi_two_p = chi2_criteria(p_two, 90, 10)\n",
    "_, chi_three_p = chi2_criteria(p_three, 900, 100)\n",
    "_, chi_one_t = chi2_criteria(t_one, 10, 0)\n",
    "_, chi_two_t = chi2_criteria(t_two, 90, 10)\n",
    "_, chi_three_t = chi2_criteria(t_three, 900, 100)"
   ]
  },
  {
   "cell_type": "code",
   "execution_count": 143,
   "metadata": {},
   "outputs": [],
   "source": [
    "freq_one_p = freq_test(0, 9, p_one)\n",
    "freq_two_p = freq_test(10, 99, p_two)\n",
    "freq_three_p = freq_test(100, 999, p_three)\n",
    "freq_one_t = freq_test(0, 9, t_one)\n",
    "freq_two_t = freq_test(10, 99, t_two)\n",
    "freq_three_t = freq_test(100, 999, t_three)"
   ]
  },
  {
   "cell_type": "code",
   "execution_count": 144,
   "metadata": {},
   "outputs": [
    {
     "name": "stdout",
     "output_type": "stream",
     "text": [
      "|        Сгенерированные значения         |\n",
      "|--------------------|--------------------|\n",
      "| Программный метод  |  Табличный метод   |\n",
      "|    8 |   76 |  389 |    2 |   75 |  447 |\n",
      "|    3 |   97 |  117 |    0 |   21 |  602 |\n",
      "|    4 |   74 |  875 |    8 |   49 |  468 |\n",
      "|    5 |   77 |  970 |    7 |   15 |  360 |\n",
      "|    5 |   61 |  395 |    2 |   40 |  650 |\n",
      "|    3 |   11 |  349 |    8 |   95 |  540 |\n",
      "|    8 |   47 |  436 |    0 |   36 |  435 |\n",
      "|    2 |   66 |  610 |    0 |   77 |  651 |\n",
      "|    3 |   63 |  916 |    0 |   61 |  319 |\n",
      "|    6 |   51 |  542 |    5 |   31 |  465 |\n",
      "|    9 |   44 |  991 |    1 |   76 |  580 |\n",
      "|    3 |   19 |  521 |    9 |   89 |  455 |\n",
      "|    1 |   84 |  915 |    5 |   63 |  756 |\n",
      "|    3 |   20 |  859 |    0 |   66 |  617 |\n",
      "|    1 |   43 |  258 |    5 |   63 |  151 |\n",
      "|    4 |   88 |  217 |    6 |   12 |  571 |\n",
      "|    0 |   56 |  308 |    7 |   29 |  886 |\n",
      "|    1 |   42 |  649 |    1 |   24 |  809 |\n",
      "|    2 |   33 |  620 |    1 |   98 |  693 |\n",
      "|    1 |   19 |  684 |    6 |   78 |  696 |\n",
      "|  ... |  ... |  ... |  ... |  ... |  ... |\n",
      "|______|______|______|______|______|______|\n",
      "\n",
      "|                        Результаты оценки                         |\n",
      "|------------|--------------------------|--------------------------|\n",
      "|            |    Программный метод     |     Табличный метод      |\n",
      "|            | однозн.| двухзн.| трехзн.| однозн.| двухзн.| трехзн.|\n",
      "| хи-квадрат | 0.1019 | 0.7327 | 0.4853 | 0.9514 | 0.6532 | 0.5513 |\n",
      "| частотный  | 0.6054 | 0.5778 | 0.5718 | 0.5932 | 0.5763 | 0.5687 |\n",
      "|____________|________|________|________|________|________|________|\n"
     ]
    }
   ],
   "source": [
    "print('|        Сгенерированные значения         |')\n",
    "print('|--------------------|--------------------|')\n",
    "print('| Программный метод  |  Табличный метод   |')\n",
    "for i in range(20):\n",
    "    print('| {:4} | {:4} | {:4} | {:4} | {:4} | {:4} |'.format(prog_res[0][i], prog_res[1][i], prog_res[2][i], \\\n",
    "                                table_res[0][i], table_res[1][i], table_res[2][i]))\n",
    "print('|  ... |  ... |  ... |  ... |  ... |  ... |')\n",
    "print('|______|______|______|______|______|______|')\n",
    "print()\n",
    "print('|                        Результаты оценки                         |')\n",
    "print('|------------|--------------------------|--------------------------|')\n",
    "print('|            |    Программный метод     |     Табличный метод      |')\n",
    "print('|            | однозн.| двухзн.| трехзн.| однозн.| двухзн.| трехзн.|')\n",
    "print('| хи-квадрат | {:4.4f} | {:4.4f} | {:4.4f} | {:4.4f} | {:4.4f} | {:4.4f} |'.format(chi_one_p, chi_two_p, chi_three_p,\n",
    "                                                                       chi_one_t, chi_two_t, chi_three_t))\n",
    "print('| частотный  | {:4.4f} | {:4.4f} | {:4.4f} | {:4.4f} | {:4.4f} | {:4.4f} |'.format(freq_one_p, freq_two_p, freq_three_p,\n",
    "                                                                       freq_one_t, freq_two_t, freq_three_t))\n",
    "print('|____________|________|________|________|________|________|________|')\n"
   ]
  },
  {
   "cell_type": "code",
   "execution_count": null,
   "metadata": {},
   "outputs": [],
   "source": []
  },
  {
   "cell_type": "code",
   "execution_count": null,
   "metadata": {},
   "outputs": [],
   "source": []
  }
 ],
 "metadata": {
  "kernelspec": {
   "display_name": "Python 3",
   "language": "python",
   "name": "python3"
  },
  "language_info": {
   "codemirror_mode": {
    "name": "ipython",
    "version": 3
   },
   "file_extension": ".py",
   "mimetype": "text/x-python",
   "name": "python",
   "nbconvert_exporter": "python",
   "pygments_lexer": "ipython3",
   "version": "3.8.5"
  }
 },
 "nbformat": 4,
 "nbformat_minor": 4
}
