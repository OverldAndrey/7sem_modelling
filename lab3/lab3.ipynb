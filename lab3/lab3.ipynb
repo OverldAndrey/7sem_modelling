{
 "cells": [
  {
   "cell_type": "code",
   "execution_count": 2,
   "metadata": {},
   "outputs": [],
   "source": [
    "import numpy\n",
    "from numpy.linalg.linalg import LinAlgError\n",
    "import random\n",
    "from prettytable import PrettyTable"
   ]
  },
  {
   "cell_type": "code",
   "execution_count": 3,
   "metadata": {},
   "outputs": [],
   "source": [
    "def generate_matrix(n):\n",
    "    return [[round(random.random(), 5) if i != j else 0.00 for j in range(n)] for i in range(n)]"
   ]
  },
  {
   "cell_type": "code",
   "execution_count": 4,
   "metadata": {},
   "outputs": [],
   "source": [
    "def build_coeff_matrix(matrix):\n",
    "    matrix = numpy.array(matrix)\n",
    "    count = len(matrix)\n",
    "    res = numpy.zeros((count, count))\n",
    "    for state in range(count - 1):\n",
    "        for col in range(count):\n",
    "            res[state, state] -= matrix[state, col]\n",
    "        for row in range(count):\n",
    "            res[state, row] += matrix[row, state]\n",
    "\n",
    "    for state in range(count):\n",
    "        res[count - 1, state] = 1\n",
    "    return res\n",
    "\n",
    "def build_augmentation_matrix(count):\n",
    "    res = [0 for i in range(count)]\n",
    "    res[count - 1] = 1\n",
    "    return numpy.array(res)"
   ]
  },
  {
   "cell_type": "code",
   "execution_count": 5,
   "metadata": {},
   "outputs": [],
   "source": [
    "def is_stationary(pp, pc):\n",
    "    res = True\n",
    "    for i in range(len(pp)):\n",
    "        res = res and abs(pp[i] - pc[i]) < eps\n",
    "    return res"
   ]
  },
  {
   "cell_type": "code",
   "execution_count": 18,
   "metadata": {},
   "outputs": [],
   "source": [
    "def calc_time(p0, pn, dt, coef):\n",
    "    t = 0\n",
    "    res_t = [0 for i in range(len(pn))]\n",
    "    pc = [p0[i] for i in range(len(pn))]\n",
    "    pp = [0 for i in range(len(pn))]\n",
    "    while (not is_stationary(pp, pn)):\n",
    "        p = [0 for i in range(len(pn))]\n",
    "        pp = pc\n",
    "        for i in range(len(pp)):\n",
    "            p[i] -= sum(coef[i]) * pp[i] * dt\n",
    "            p[i] += pp[i]\n",
    "            for j in range(len(pp)):\n",
    "                if j != i:\n",
    "                    p[i] += pp[j] * coef[j][i] * dt\n",
    "            if abs(p[i] - pn[i]) < eps:\n",
    "                if not res_t[i]:\n",
    "                    res_t[i] = round(t, 5)\n",
    "#             else:\n",
    "#                 res_t[i] = 0\n",
    "        pc = p\n",
    "        t += dt\n",
    "#         print(pc)\n",
    "    return res_t"
   ]
  },
  {
   "cell_type": "code",
   "execution_count": 40,
   "metadata": {},
   "outputs": [
    {
     "name": "stdout",
     "output_type": "stream",
     "text": [
      "[[0.0, 0.74785, 0.32557, 0.96331, 0.06603, 0.7619, 0.13345, 0.01048, 0.89655, 0.09981], [0.38302, 0.0, 0.31963, 0.86662, 0.51102, 0.96329, 0.75592, 0.10722, 0.57365, 0.63636], [0.02748, 0.98666, 0.0, 0.58011, 0.73684, 0.48691, 0.01426, 0.43755, 0.11164, 0.83364], [0.76107, 0.02798, 0.74101, 0.0, 0.71771, 0.33359, 0.3304, 0.42827, 0.32277, 0.08781], [0.81862, 0.07618, 0.29106, 0.01378, 0.0, 0.56159, 0.24887, 0.13701, 0.57098, 0.22321], [0.09487, 0.5608, 0.14086, 0.86928, 0.87114, 0.0, 0.66798, 0.31036, 0.67929, 0.32272], [0.20065, 0.37932, 0.44058, 0.95981, 0.4931, 0.71179, 0.0, 0.20712, 0.29312, 0.48458], [0.94112, 0.82663, 0.99462, 0.98856, 0.56127, 0.48097, 0.15964, 0.0, 0.74488, 0.40151], [0.87852, 0.93538, 0.97427, 0.37729, 0.70656, 0.53769, 0.50325, 0.19835, 0.0, 0.55742], [0.96551, 0.07505, 0.68589, 0.84154, 0.81442, 0.30433, 0.64811, 0.76193, 0.86222, 0.0]]\n",
      "[0.12026543 0.08257843 0.10413501 0.14565368 0.16989    0.11216388\n",
      " 0.07977846 0.0415725  0.08658887 0.05737374]\n",
      "[1.4512, 1.3045, 0.0805, 0.5746, 1.7706, 0.9641, 1.3891, 1.2559, 0.7028, 1.2696]\n"
     ]
    }
   ],
   "source": [
    "intensity = [\n",
    "    [0,2,3,0],\n",
    "    [0,0,0,1],\n",
    "    [1,2,0,0],\n",
    "    [0,0,2,0]\n",
    "]\n",
    "# intensity = [\n",
    "#     [0.0,0.696,0.6721],\n",
    "#     [0.3799,0.0,0.8983],\n",
    "#     [0.8151,0.7895,0.0]\n",
    "# ]\n",
    "global eps\n",
    "eps = 0.0001\n",
    "\n",
    "sn = 10\n",
    "intensity = generate_matrix(sn)\n",
    "\n",
    "p0 = [1.0 / sn for i in range(sn)]\n",
    "# p0[0] = 1\n",
    "pn = numpy.linalg.solve(build_coeff_matrix(intensity), build_augmentation_matrix(len(intensity)))\n",
    "dt = eps\n",
    "\n",
    "rt = calc_time(p0, pn, dt, intensity)\n",
    "\n",
    "print(intensity)\n",
    "print(pn)\n",
    "print(rt)"
   ]
  },
  {
   "cell_type": "code",
   "execution_count": 41,
   "metadata": {},
   "outputs": [],
   "source": [
    "def print_matrix(matrix):\n",
    "    table = PrettyTable()\n",
    "    names = [\"Состояния\"]\n",
    "    names.extend([str(i + 1) for i in range(len(matrix))])\n",
    "    table.field_names = names\n",
    "    for i in range(len(matrix)):\n",
    "        tmp = [item for item in matrix[i]]\n",
    "        tmp.insert(0, i + 1)\n",
    "        table.add_row(tmp)\n",
    "    print(table)\n",
    "\n",
    "def print_results(results_p, results_t):\n",
    "    table = PrettyTable()\n",
    "    table.add_column(\"Состояния\", [i + 1 for i in range(len(results_p))])\n",
    "    table.add_column(\"Предельные вероятности\", results_p)\n",
    "    table.add_column(\"Время\", results_t)\n",
    "    print(table)"
   ]
  },
  {
   "cell_type": "code",
   "execution_count": 42,
   "metadata": {},
   "outputs": [
    {
     "name": "stdout",
     "output_type": "stream",
     "text": [
      "+-----------+---------+---------+---------+---------+---------+---------+---------+---------+---------+---------+\n",
      "| Состояния |    1    |    2    |    3    |    4    |    5    |    6    |    7    |    8    |    9    |    10   |\n",
      "+-----------+---------+---------+---------+---------+---------+---------+---------+---------+---------+---------+\n",
      "|     1     |   0.0   | 0.74785 | 0.32557 | 0.96331 | 0.06603 |  0.7619 | 0.13345 | 0.01048 | 0.89655 | 0.09981 |\n",
      "|     2     | 0.38302 |   0.0   | 0.31963 | 0.86662 | 0.51102 | 0.96329 | 0.75592 | 0.10722 | 0.57365 | 0.63636 |\n",
      "|     3     | 0.02748 | 0.98666 |   0.0   | 0.58011 | 0.73684 | 0.48691 | 0.01426 | 0.43755 | 0.11164 | 0.83364 |\n",
      "|     4     | 0.76107 | 0.02798 | 0.74101 |   0.0   | 0.71771 | 0.33359 |  0.3304 | 0.42827 | 0.32277 | 0.08781 |\n",
      "|     5     | 0.81862 | 0.07618 | 0.29106 | 0.01378 |   0.0   | 0.56159 | 0.24887 | 0.13701 | 0.57098 | 0.22321 |\n",
      "|     6     | 0.09487 |  0.5608 | 0.14086 | 0.86928 | 0.87114 |   0.0   | 0.66798 | 0.31036 | 0.67929 | 0.32272 |\n",
      "|     7     | 0.20065 | 0.37932 | 0.44058 | 0.95981 |  0.4931 | 0.71179 |   0.0   | 0.20712 | 0.29312 | 0.48458 |\n",
      "|     8     | 0.94112 | 0.82663 | 0.99462 | 0.98856 | 0.56127 | 0.48097 | 0.15964 |   0.0   | 0.74488 | 0.40151 |\n",
      "|     9     | 0.87852 | 0.93538 | 0.97427 | 0.37729 | 0.70656 | 0.53769 | 0.50325 | 0.19835 |   0.0   | 0.55742 |\n",
      "|     10    | 0.96551 | 0.07505 | 0.68589 | 0.84154 | 0.81442 | 0.30433 | 0.64811 | 0.76193 | 0.86222 |   0.0   |\n",
      "+-----------+---------+---------+---------+---------+---------+---------+---------+---------+---------+---------+\n",
      "+-----------+------------------------+--------+\n",
      "| Состояния | Предельные вероятности | Время  |\n",
      "+-----------+------------------------+--------+\n",
      "|     1     |        0.12027         | 1.4512 |\n",
      "|     2     |        0.08258         | 1.3045 |\n",
      "|     3     |        0.10414         | 0.0805 |\n",
      "|     4     |        0.14565         | 0.5746 |\n",
      "|     5     |        0.16989         | 1.7706 |\n",
      "|     6     |        0.11216         | 0.9641 |\n",
      "|     7     |        0.07978         | 1.3891 |\n",
      "|     8     |        0.04157         | 1.2559 |\n",
      "|     9     |        0.08659         | 0.7028 |\n",
      "|     10    |        0.05737         | 1.2696 |\n",
      "+-----------+------------------------+--------+\n"
     ]
    }
   ],
   "source": [
    "pn = list(map(lambda x: round(x, 5), pn))\n",
    "print_matrix(intensity)\n",
    "print_results(pn, rt)"
   ]
  },
  {
   "cell_type": "code",
   "execution_count": null,
   "metadata": {},
   "outputs": [],
   "source": []
  }
 ],
 "metadata": {
  "kernelspec": {
   "display_name": "Python 3",
   "language": "python",
   "name": "python3"
  },
  "language_info": {
   "codemirror_mode": {
    "name": "ipython",
    "version": 3
   },
   "file_extension": ".py",
   "mimetype": "text/x-python",
   "name": "python",
   "nbconvert_exporter": "python",
   "pygments_lexer": "ipython3",
   "version": "3.8.5"
  }
 },
 "nbformat": 4,
 "nbformat_minor": 4
}
